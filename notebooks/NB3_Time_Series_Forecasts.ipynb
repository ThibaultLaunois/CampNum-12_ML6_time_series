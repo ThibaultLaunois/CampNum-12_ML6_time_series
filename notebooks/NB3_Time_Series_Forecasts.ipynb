{
 "cells": [
  {
   "cell_type": "markdown",
   "metadata": {},
   "source": [
    "# Part 3: Forecasting with a Prophet 📉"
   ]
  },
  {
   "cell_type": "markdown",
   "metadata": {},
   "source": [
    "https://youtu.be/pOYAXv15r3A"
   ]
  },
  {
   "cell_type": "markdown",
   "metadata": {},
   "source": [
    "One piece of recent open software is facebook's `prophet`. This uses a model which is similar to a **generalised additive model** (GAM), a class of additive (linear) models with potentially non-linear components. \n",
    "\n",
    "The model is easily interpreted (as a sum of components) and simple to fit (parameters have a strightforward interpretation).\n",
    "But if the hypothesis of the parametric model are not respected, the fitted model may seriously underfit.\n",
    "\n",
    "You can read more about the underlying model [here](https://peerj.com/preprints/3190/).\n",
    "\n",
    "As you are beginning to see time series forecasting can sometimes be as much an art as a science, and we know it takes quite some practice to become a good artist. The authors of the software had this in mind when they wrote it.  One of their aims is to provide software which can be used easily by those who have a little timeseries knowledge. Let's see how this goes....We will apply this software to the airline data now."
   ]
  },
  {
   "cell_type": "markdown",
   "metadata": {},
   "source": [
    "To install prophet I advise you to install a completely clean virtualenvironment with conda (you will find the instructions to do this [here](https://docs.conda.io/projects/conda/en/4.6.1/user-guide/tasks/manage-environments.html)).\n",
    "\n",
    "Then you can install prophet with: `conda install -c conda-forge prophet`\n"
   ]
  },
  {
   "cell_type": "code",
   "execution_count": 1,
   "metadata": {},
   "outputs": [],
   "source": [
    "import pandas as pd\n",
    "import numpy as np\n",
    "import matplotlib.pyplot as plt\n",
    "from matplotlib import dates\n",
    "\n",
    "import seaborn as sns \n",
    "import matplotlib.style as style"
   ]
  },
  {
   "cell_type": "markdown",
   "metadata": {},
   "source": [
    "# Example 1 - airline data\n",
    "\n",
    "We setup the data as we had done so before in the ARIMA example."
   ]
  },
  {
   "cell_type": "code",
   "execution_count": 2,
   "metadata": {},
   "outputs": [],
   "source": [
    "from pmdarima.datasets import load_airpassengers\n",
    "\n",
    "START_DATE = '1949-01-01'\n",
    "airline = load_airpassengers(as_series=True)\n",
    "\n",
    "#there's no datetimeindex from the bundled dataset. So let's add one.\n",
    "airline.index= pd.date_range(\n",
    "    START_DATE, \n",
    "    periods=len(airline), \n",
    "    freq='MS'\n",
    ")"
   ]
  },
  {
   "cell_type": "code",
   "execution_count": 3,
   "metadata": {},
   "outputs": [],
   "source": [
    "def ts_train_test_split(data, split_date):\n",
    "    '''\n",
    "    Split time series into training and test data\n",
    "    \n",
    "    Parameters:\n",
    "    -------\n",
    "    data - pd.DataFrame - time series data.  Index expected as datatimeindex\n",
    "    split_date - the date on which to split the time series\n",
    "    \n",
    "    Returns:\n",
    "    --------\n",
    "    tuple (len=2) \n",
    "    0. pandas.DataFrame - training dataset\n",
    "    1. pandas.DataFrame - test dataset\n",
    "    '''\n",
    "    train = data.loc[data.index < split_date]\n",
    "    test = data.loc[data.index >= split_date]\n",
    "    return train, test"
   ]
  },
  {
   "cell_type": "code",
   "execution_count": 4,
   "metadata": {},
   "outputs": [],
   "source": [
    "#for cv need all of the training data joined together.\n",
    "airline_adj = airline / airline.index.days_in_month\n",
    "\n",
    "train, test = ts_train_test_split(airline_adj, '1960-01-01')\n",
    "train_log, test_log = np.log(train), np.log(test) # get logged values for arima model\n"
   ]
  },
  {
   "cell_type": "markdown",
   "metadata": {},
   "source": [
    "## Forecasting with prophet\n",
    "\n",
    "Fitting a basic model and making predictions is very simple with `prophet`."
   ]
  },
  {
   "cell_type": "code",
   "execution_count": 7,
   "metadata": {},
   "outputs": [],
   "source": [
    "from prophet import Prophet\n",
    "pd.plotting.register_matplotlib_converters()"
   ]
  },
  {
   "cell_type": "markdown",
   "metadata": {},
   "source": [
    "Training data is expected in this df format below."
   ]
  },
  {
   "cell_type": "code",
   "execution_count": 8,
   "metadata": {},
   "outputs": [],
   "source": [
    "train_df = pd.DataFrame(train).reset_index().rename(columns = {0:'y','index':'ds'})"
   ]
  },
  {
   "cell_type": "code",
   "execution_count": 9,
   "metadata": {},
   "outputs": [
    {
     "data": {
      "text/html": [
       "<div>\n",
       "<style scoped>\n",
       "    .dataframe tbody tr th:only-of-type {\n",
       "        vertical-align: middle;\n",
       "    }\n",
       "\n",
       "    .dataframe tbody tr th {\n",
       "        vertical-align: top;\n",
       "    }\n",
       "\n",
       "    .dataframe thead th {\n",
       "        text-align: right;\n",
       "    }\n",
       "</style>\n",
       "<table border=\"1\" class=\"dataframe\">\n",
       "  <thead>\n",
       "    <tr style=\"text-align: right;\">\n",
       "      <th></th>\n",
       "      <th>ds</th>\n",
       "      <th>y</th>\n",
       "    </tr>\n",
       "  </thead>\n",
       "  <tbody>\n",
       "    <tr>\n",
       "      <th>127</th>\n",
       "      <td>1959-08-01</td>\n",
       "      <td>18.032258</td>\n",
       "    </tr>\n",
       "    <tr>\n",
       "      <th>128</th>\n",
       "      <td>1959-09-01</td>\n",
       "      <td>15.433333</td>\n",
       "    </tr>\n",
       "    <tr>\n",
       "      <th>129</th>\n",
       "      <td>1959-10-01</td>\n",
       "      <td>13.129032</td>\n",
       "    </tr>\n",
       "    <tr>\n",
       "      <th>130</th>\n",
       "      <td>1959-11-01</td>\n",
       "      <td>12.066667</td>\n",
       "    </tr>\n",
       "    <tr>\n",
       "      <th>131</th>\n",
       "      <td>1959-12-01</td>\n",
       "      <td>13.064516</td>\n",
       "    </tr>\n",
       "  </tbody>\n",
       "</table>\n",
       "</div>"
      ],
      "text/plain": [
       "            ds          y\n",
       "127 1959-08-01  18.032258\n",
       "128 1959-09-01  15.433333\n",
       "129 1959-10-01  13.129032\n",
       "130 1959-11-01  12.066667\n",
       "131 1959-12-01  13.064516"
      ]
     },
     "execution_count": 9,
     "metadata": {},
     "output_type": "execute_result"
    }
   ],
   "source": [
    "train_df.tail()"
   ]
  },
  {
   "cell_type": "markdown",
   "metadata": {},
   "source": [
    "Fit model..."
   ]
  },
  {
   "cell_type": "code",
   "execution_count": 14,
   "metadata": {},
   "outputs": [
    {
     "name": "stderr",
     "output_type": "stream",
     "text": [
      "09:22:10 - cmdstanpy - INFO - Chain [1] start processing\n"
     ]
    },
    {
     "name": "stderr",
     "output_type": "stream",
     "text": [
      "09:22:10 - cmdstanpy - INFO - Chain [1] done processing\n"
     ]
    }
   ],
   "source": [
    "model = Prophet()\n",
    "model.fit(train_df)\n",
    "pass"
   ]
  },
  {
   "cell_type": "markdown",
   "metadata": {},
   "source": [
    "Make predictions..."
   ]
  },
  {
   "cell_type": "code",
   "execution_count": null,
   "metadata": {},
   "outputs": [
    {
     "data": {
      "text/html": [
       "<div>\n",
       "<style scoped>\n",
       "    .dataframe tbody tr th:only-of-type {\n",
       "        vertical-align: middle;\n",
       "    }\n",
       "\n",
       "    .dataframe tbody tr th {\n",
       "        vertical-align: top;\n",
       "    }\n",
       "\n",
       "    .dataframe thead th {\n",
       "        text-align: right;\n",
       "    }\n",
       "</style>\n",
       "<table border=\"1\" class=\"dataframe\">\n",
       "  <thead>\n",
       "    <tr style=\"text-align: right;\">\n",
       "      <th></th>\n",
       "      <th>ds</th>\n",
       "    </tr>\n",
       "  </thead>\n",
       "  <tbody>\n",
       "    <tr>\n",
       "      <th>0</th>\n",
       "      <td>1949-01-01</td>\n",
       "    </tr>\n",
       "    <tr>\n",
       "      <th>1</th>\n",
       "      <td>1949-02-01</td>\n",
       "    </tr>\n",
       "    <tr>\n",
       "      <th>2</th>\n",
       "      <td>1949-03-01</td>\n",
       "    </tr>\n",
       "    <tr>\n",
       "      <th>3</th>\n",
       "      <td>1949-04-01</td>\n",
       "    </tr>\n",
       "    <tr>\n",
       "      <th>4</th>\n",
       "      <td>1949-05-01</td>\n",
       "    </tr>\n",
       "  </tbody>\n",
       "</table>\n",
       "</div>"
      ],
      "text/plain": [
       "          ds\n",
       "0 1949-01-01\n",
       "1 1949-02-01\n",
       "2 1949-03-01\n",
       "3 1949-04-01\n",
       "4 1949-05-01"
      ]
     },
     "execution_count": 11,
     "metadata": {},
     "output_type": "execute_result"
    }
   ],
   "source": [
    "future = model.make_future_dataframe(\n",
    "    periods=12, \n",
    "    freq='MS', \n",
    "    include_history=True\n",
    ") \n",
    "#create a dataframe with the prediction datetimes we want\n",
    "future.head()"
   ]
  },
  {
   "cell_type": "code",
   "execution_count": 12,
   "metadata": {},
   "outputs": [],
   "source": [
    "forecast = model.predict(future)\n",
    "y_pred = forecast[['ds', 'yhat', 'yhat_lower', 'yhat_upper']].set_index('ds')"
   ]
  },
  {
   "cell_type": "markdown",
   "metadata": {},
   "source": [
    "Plot predictions..."
   ]
  },
  {
   "cell_type": "code",
   "execution_count": 13,
   "metadata": {},
   "outputs": [
    {
     "data": {
      "image/png": "[encoded data removed]",
      "text/plain": [
       "<Figure size 1000x600 with 1 Axes>"
      ]
     },
     "metadata": {},
     "output_type": "display_data"
    }
   ],
   "source": [
    "fig = model.plot(forecast)\n",
    "# test.plot(style='.r')"
   ]
  },
  {
   "cell_type": "markdown",
   "metadata": {},
   "source": [
    "Evaluating this baseline model error on test set..."
   ]
  },
  {
   "cell_type": "code",
   "execution_count": 15,
   "metadata": {},
   "outputs": [],
   "source": [
    "def mean_absolute_percentage_error(y_true, y_pred): \n",
    "    '''\n",
    "    MAPE\n",
    "\n",
    "    Parameters:\n",
    "    --------\n",
    "    y_true -- np.array actual observations from time series\n",
    "    y_pred -- the predictions to evaluate\n",
    "\n",
    "    Returns:\n",
    "    -------\n",
    "    float, scalar value representing the MAPE (0-100)\n",
    "    '''\n",
    "    #y_true, y_pred = np.array(y_true), np.array(y_pred)\n",
    "    return np.mean(np.abs((y_true - y_pred) / y_true)) * 100"
   ]
  },
  {
   "cell_type": "code",
   "execution_count": 16,
   "metadata": {},
   "outputs": [
    {
     "data": {
      "text/plain": [
       "np.float64(6.6175663010646595)"
      ]
     },
     "execution_count": 16,
     "metadata": {},
     "output_type": "execute_result"
    }
   ],
   "source": [
    "mean_absolute_percentage_error(\n",
    "    test.values , \n",
    "    forecast['yhat'][-12:])"
   ]
  },
  {
   "cell_type": "markdown",
   "metadata": {},
   "source": [
    "We at least see it beats the naive model scores  that we saw in the last notebook (from the unlogged data). Not bad for only several lines of code. But looking at the plot it is clearly not fitting well. We should use cross validation to find a better fitting model (before we evaluated in the test set!)."
   ]
  },
  {
   "cell_type": "markdown",
   "metadata": {},
   "source": [
    "## Cross validation in prophet\n",
    "\n",
    "There are cross validation functions in `prophet` that take care of time series data and can perform adjustable rolling windows as we had previously seen in other time series cross validation functions."
   ]
  },
  {
   "cell_type": "code",
   "execution_count": 40,
   "metadata": {},
   "outputs": [],
   "source": [
    "from prophet.diagnostics import cross_validation\n",
    "from prophet.diagnostics import performance_metrics\n",
    "from prophet.plot import plot_cross_validation_metric"
   ]
  },
  {
   "cell_type": "code",
   "execution_count": 41,
   "metadata": {},
   "outputs": [
    {
     "name": "stderr",
     "output_type": "stream",
     "text": [
      "09:55:41 - cmdstanpy - INFO - Chain [1] start processing\n",
      "09:55:41 - cmdstanpy - INFO - Chain [1] done processing\n",
      "  0%|          | 0/6 [00:00<?, ?it/s]09:55:41 - cmdstanpy - INFO - Chain [1] start processing\n",
      "09:55:41 - cmdstanpy - INFO - Chain [1] done processing\n",
      " 17%|█▋        | 1/6 [00:00<00:01,  3.59it/s]09:55:41 - cmdstanpy - INFO - Chain [1] start processing\n",
      "09:55:42 - cmdstanpy - INFO - Chain [1] done processing\n",
      " 33%|███▎      | 2/6 [00:00<00:01,  2.22it/s]09:55:42 - cmdstanpy - INFO - Chain [1] start processing\n",
      "09:55:42 - cmdstanpy - INFO - Chain [1] done processing\n",
      " 50%|█████     | 3/6 [00:01<00:01,  2.69it/s]09:55:42 - cmdstanpy - INFO - Chain [1] start processing\n",
      "09:55:42 - cmdstanpy - INFO - Chain [1] done processing\n",
      " 67%|██████▋   | 4/6 [00:01<00:01,  1.89it/s]09:55:43 - cmdstanpy - INFO - Chain [1] start processing\n",
      "09:55:43 - cmdstanpy - INFO - Chain [1] done processing\n",
      " 83%|████████▎ | 5/6 [00:02<00:00,  2.59it/s]09:55:43 - cmdstanpy - INFO - Chain [1] start processing\n",
      "09:55:43 - cmdstanpy - INFO - Chain [1] done processing\n",
      "100%|██████████| 6/6 [00:02<00:00,  2.80it/s]\n"
     ]
    }
   ],
   "source": [
    "model = Prophet()\n",
    "model.fit(train_df)\n",
    "df_cv = cross_validation(\n",
    "    model, \n",
    "    initial='1461 days', \n",
    "    period='365 days', \n",
    "    horizon = '365 days'\n",
    ")"
   ]
  },
  {
   "cell_type": "code",
   "execution_count": 42,
   "metadata": {},
   "outputs": [
    {
     "data": {
      "text/html": [
       "<div>\n",
       "<style scoped>\n",
       "    .dataframe tbody tr th:only-of-type {\n",
       "        vertical-align: middle;\n",
       "    }\n",
       "\n",
       "    .dataframe tbody tr th {\n",
       "        vertical-align: top;\n",
       "    }\n",
       "\n",
       "    .dataframe thead th {\n",
       "        text-align: right;\n",
       "    }\n",
       "</style>\n",
       "<table border=\"1\" class=\"dataframe\">\n",
       "  <thead>\n",
       "    <tr style=\"text-align: right;\">\n",
       "      <th></th>\n",
       "      <th>ds</th>\n",
       "      <th>yhat</th>\n",
       "      <th>yhat_lower</th>\n",
       "      <th>yhat_upper</th>\n",
       "      <th>y</th>\n",
       "      <th>cutoff</th>\n",
       "    </tr>\n",
       "  </thead>\n",
       "  <tbody>\n",
       "    <tr>\n",
       "      <th>0</th>\n",
       "      <td>1954-01-01</td>\n",
       "      <td>7.374734</td>\n",
       "      <td>7.093127</td>\n",
       "      <td>7.623504</td>\n",
       "      <td>6.580645</td>\n",
       "      <td>1953-12-02</td>\n",
       "    </tr>\n",
       "    <tr>\n",
       "      <th>1</th>\n",
       "      <td>1954-02-01</td>\n",
       "      <td>8.073018</td>\n",
       "      <td>7.820350</td>\n",
       "      <td>8.325896</td>\n",
       "      <td>6.714286</td>\n",
       "      <td>1953-12-02</td>\n",
       "    </tr>\n",
       "    <tr>\n",
       "      <th>2</th>\n",
       "      <td>1954-03-01</td>\n",
       "      <td>8.316081</td>\n",
       "      <td>8.054897</td>\n",
       "      <td>8.603504</td>\n",
       "      <td>7.580645</td>\n",
       "      <td>1953-12-02</td>\n",
       "    </tr>\n",
       "    <tr>\n",
       "      <th>3</th>\n",
       "      <td>1954-04-01</td>\n",
       "      <td>8.248502</td>\n",
       "      <td>7.979712</td>\n",
       "      <td>8.511604</td>\n",
       "      <td>7.566667</td>\n",
       "      <td>1953-12-02</td>\n",
       "    </tr>\n",
       "    <tr>\n",
       "      <th>4</th>\n",
       "      <td>1954-05-01</td>\n",
       "      <td>8.062861</td>\n",
       "      <td>7.798241</td>\n",
       "      <td>8.313963</td>\n",
       "      <td>7.548387</td>\n",
       "      <td>1953-12-02</td>\n",
       "    </tr>\n",
       "  </tbody>\n",
       "</table>\n",
       "</div>"
      ],
      "text/plain": [
       "          ds      yhat  yhat_lower  yhat_upper         y     cutoff\n",
       "0 1954-01-01  7.374734    7.093127    7.623504  6.580645 1953-12-02\n",
       "1 1954-02-01  8.073018    7.820350    8.325896  6.714286 1953-12-02\n",
       "2 1954-03-01  8.316081    8.054897    8.603504  7.580645 1953-12-02\n",
       "3 1954-04-01  8.248502    7.979712    8.511604  7.566667 1953-12-02\n",
       "4 1954-05-01  8.062861    7.798241    8.313963  7.548387 1953-12-02"
      ]
     },
     "execution_count": 42,
     "metadata": {},
     "output_type": "execute_result"
    }
   ],
   "source": [
    "df_cv.head()"
   ]
  },
  {
   "cell_type": "markdown",
   "metadata": {},
   "source": [
    "A function for performance metrics and plotting..."
   ]
  },
  {
   "cell_type": "code",
   "execution_count": 43,
   "metadata": {},
   "outputs": [],
   "source": [
    "df_p = performance_metrics(df_cv)"
   ]
  },
  {
   "cell_type": "code",
   "execution_count": 44,
   "metadata": {},
   "outputs": [
    {
     "data": {
      "text/html": [
       "<div>\n",
       "<style scoped>\n",
       "    .dataframe tbody tr th:only-of-type {\n",
       "        vertical-align: middle;\n",
       "    }\n",
       "\n",
       "    .dataframe tbody tr th {\n",
       "        vertical-align: top;\n",
       "    }\n",
       "\n",
       "    .dataframe thead th {\n",
       "        text-align: right;\n",
       "    }\n",
       "</style>\n",
       "<table border=\"1\" class=\"dataframe\">\n",
       "  <thead>\n",
       "    <tr style=\"text-align: right;\">\n",
       "      <th></th>\n",
       "      <th>horizon</th>\n",
       "      <th>mse</th>\n",
       "      <th>rmse</th>\n",
       "      <th>mae</th>\n",
       "      <th>mape</th>\n",
       "      <th>mdape</th>\n",
       "      <th>smape</th>\n",
       "      <th>coverage</th>\n",
       "    </tr>\n",
       "  </thead>\n",
       "  <tbody>\n",
       "    <tr>\n",
       "      <th>0</th>\n",
       "      <td>61 days</td>\n",
       "      <td>0.732262</td>\n",
       "      <td>0.855723</td>\n",
       "      <td>0.708347</td>\n",
       "      <td>0.079037</td>\n",
       "      <td>0.071686</td>\n",
       "      <td>0.074323</td>\n",
       "      <td>0.380952</td>\n",
       "    </tr>\n",
       "    <tr>\n",
       "      <th>1</th>\n",
       "      <td>62 days</td>\n",
       "      <td>0.901625</td>\n",
       "      <td>0.949539</td>\n",
       "      <td>0.825398</td>\n",
       "      <td>0.085384</td>\n",
       "      <td>0.085915</td>\n",
       "      <td>0.080362</td>\n",
       "      <td>0.285714</td>\n",
       "    </tr>\n",
       "    <tr>\n",
       "      <th>2</th>\n",
       "      <td>89 days</td>\n",
       "      <td>0.745211</td>\n",
       "      <td>0.863256</td>\n",
       "      <td>0.713927</td>\n",
       "      <td>0.075639</td>\n",
       "      <td>0.085915</td>\n",
       "      <td>0.071439</td>\n",
       "      <td>0.333333</td>\n",
       "    </tr>\n",
       "    <tr>\n",
       "      <th>3</th>\n",
       "      <td>90 days</td>\n",
       "      <td>0.578488</td>\n",
       "      <td>0.760584</td>\n",
       "      <td>0.585130</td>\n",
       "      <td>0.054793</td>\n",
       "      <td>0.041156</td>\n",
       "      <td>0.052426</td>\n",
       "      <td>0.571429</td>\n",
       "    </tr>\n",
       "    <tr>\n",
       "      <th>4</th>\n",
       "      <td>120 days</td>\n",
       "      <td>0.474823</td>\n",
       "      <td>0.689074</td>\n",
       "      <td>0.545189</td>\n",
       "      <td>0.054868</td>\n",
       "      <td>0.050609</td>\n",
       "      <td>0.053033</td>\n",
       "      <td>0.500000</td>\n",
       "    </tr>\n",
       "  </tbody>\n",
       "</table>\n",
       "</div>"
      ],
      "text/plain": [
       "   horizon       mse      rmse       mae      mape     mdape     smape  \\\n",
       "0  61 days  0.732262  0.855723  0.708347  0.079037  0.071686  0.074323   \n",
       "1  62 days  0.901625  0.949539  0.825398  0.085384  0.085915  0.080362   \n",
       "2  89 days  0.745211  0.863256  0.713927  0.075639  0.085915  0.071439   \n",
       "3  90 days  0.578488  0.760584  0.585130  0.054793  0.041156  0.052426   \n",
       "4 120 days  0.474823  0.689074  0.545189  0.054868  0.050609  0.053033   \n",
       "\n",
       "   coverage  \n",
       "0  0.380952  \n",
       "1  0.285714  \n",
       "2  0.333333  \n",
       "3  0.571429  \n",
       "4  0.500000  "
      ]
     },
     "execution_count": 44,
     "metadata": {},
     "output_type": "execute_result"
    }
   ],
   "source": [
    "df_p.head()"
   ]
  },
  {
   "cell_type": "code",
   "execution_count": 45,
   "metadata": {},
   "outputs": [
    {
     "name": "stderr",
     "output_type": "stream",
     "text": [
      "/home/thibault.launois@Digital-Grenoble.local/anaconda3/envs/ML6/lib/python3.12/site-packages/prophet/plot.py:547: FutureWarning: Series.view is deprecated and will be removed in a future version. Use ``astype`` as an alternative to change the dtype.\n",
      "  x_plt = df_none['horizon'].astype('timedelta64[ns]').view(np.int64) / float(dt_conversions[i])\n",
      "/home/thibault.launois@Digital-Grenoble.local/anaconda3/envs/ML6/lib/python3.12/site-packages/prophet/plot.py:548: FutureWarning: Series.view is deprecated and will be removed in a future version. Use ``astype`` as an alternative to change the dtype.\n",
      "  x_plt_h = df_h['horizon'].astype('timedelta64[ns]').view(np.int64) / float(dt_conversions[i])\n"
     ]
    },
    {
     "data": {
      "image/png": "[encoded data removed]",
      "text/plain": [
       "<Figure size 1000x600 with 1 Axes>"
      ]
     },
     "metadata": {},
     "output_type": "display_data"
    }
   ],
   "source": [
    "fig = plot_cross_validation_metric(df_cv, metric='mape')\n",
    "plt.show()"
   ]
  },
  {
   "cell_type": "markdown",
   "metadata": {},
   "source": [
    "The plot above is the standard output plot of the CV from `prophet`. It is different to what we have looked at before. Each grey point represents a prediction, made on a particular month. Because we made predictions over several horizons each are plotted on the graph. At around horizon 30 for example we see each of the plots over the first month of each of the 6, 12 month validations. The blue line shows a rolling window of the mape scores 'averaged' over the cv predictions. More info [here](https://facebook.github.io/prophet/docs/diagnostics.html).\n",
    "\n",
    "We are normally interested in the mean and std of the MAPE scores found at each window. This can be calculated from the dataframe returned from the `cross_validation` function above, using the function below. "
   ]
  },
  {
   "cell_type": "code",
   "execution_count": 46,
   "metadata": {},
   "outputs": [
    {
     "name": "stdout",
     "output_type": "stream",
     "text": [
      "MAPE of 7.2% with std of 2.1%.\n",
      "----------\n"
     ]
    },
    {
     "data": {
      "text/plain": [
       "count    6.000000\n",
       "mean     0.072167\n",
       "min      0.052698\n",
       "25%      0.059261\n",
       "50%      0.066481\n",
       "75%      0.077062\n",
       "max      0.109897\n",
       "std      0.020711\n",
       "Name: mape, dtype: float64"
      ]
     },
     "execution_count": 46,
     "metadata": {},
     "output_type": "execute_result"
    }
   ],
   "source": [
    "def mape_performance_calc(df_cv):\n",
    "    \" function to replace prophet cv 'performance metrics' function\"\n",
    "    df_cv['mape'] = abs(df_cv['y'] - df_cv['yhat']) /df_cv['y'] # make column with individual abs normalised values\n",
    "    results = df_cv.groupby(['cutoff']).mean() # finish mape calc for each of the folds (distinguised in 'cutoff' column of df_cv)\n",
    "    results = results.describe() # sumarise folds information\n",
    "    results = results['mape']# # return only mape column\n",
    "    print(f\"MAPE of {results['mean']*100:.1f}% with std of {results['std']*100:.1f}%.\" )\n",
    "    print(\"-\"*10)\n",
    "    return(results)\n",
    "\n",
    "mape_performance_calc(df_cv)"
   ]
  },
  {
   "cell_type": "markdown",
   "metadata": {},
   "source": [
    "We find a MAPE of ~7.2% with std ~2%. This would have estimated the error we saw on the test set to a good degree."
   ]
  },
  {
   "cell_type": "markdown",
   "metadata": {},
   "source": [
    "## Hyper-parameters\n",
    "\n",
    "The model plot we saw earlier did not fit very well to the train data. We can change the model assumptions (like hyper-parameters) to change how well it is fitting the train data.\n",
    "\n",
    "`Prophet(\n",
    "    growth='linear',\n",
    "    changepoints=None,\n",
    "    n_changepoints=25,\n",
    "    changepoint_range=0.8,\n",
    "    yearly_seasonality='auto',\n",
    "    weekly_seasonality='auto',\n",
    "    daily_seasonality='auto',\n",
    "    holidays=None,\n",
    "    seasonality_mode='additive',\n",
    "    seasonality_prior_scale=10.0,\n",
    "    holidays_prior_scale=10.0,\n",
    "    changepoint_prior_scale=0.05,\n",
    "    mcmc_samples=0,\n",
    "    interval_width=0.8,\n",
    "    uncertainty_samples=1000,\n",
    "    stan_backend=None,\n",
    ")`"
   ]
  },
  {
   "cell_type": "markdown",
   "metadata": {},
   "source": [
    "**TASK**\n",
    "\n",
    "* Try changing some of these. [This](https://towardsdatascience.com/implementing-facebook-prophet-efficiently-c241305405a3) blog is very useful in explaining the parameters and what they do.\n",
    "* Find at least one change which improves your model cross validation score"
   ]
  },
  {
   "cell_type": "code",
   "execution_count": 76,
   "metadata": {},
   "outputs": [
    {
     "name": "stderr",
     "output_type": "stream",
     "text": [
      "10:13:45 - cmdstanpy - INFO - Chain [1] start processing\n",
      "10:13:45 - cmdstanpy - INFO - Chain [1] done processing\n",
      "  0%|          | 0/6 [00:00<?, ?it/s]10:13:45 - cmdstanpy - INFO - Chain [1] start processing\n",
      "10:13:45 - cmdstanpy - INFO - Chain [1] done processing\n",
      "10:13:45 - cmdstanpy - INFO - Chain [1] start processing\n",
      "10:13:45 - cmdstanpy - INFO - Chain [1] done processing\n",
      " 33%|███▎      | 2/6 [00:00<00:00,  9.87it/s]10:13:45 - cmdstanpy - INFO - Chain [1] start processing\n",
      "10:13:45 - cmdstanpy - INFO - Chain [1] done processing\n",
      " 50%|█████     | 3/6 [00:00<00:00,  6.98it/s]10:13:45 - cmdstanpy - INFO - Chain [1] start processing\n",
      "10:13:46 - cmdstanpy - INFO - Chain [1] done processing\n",
      " 67%|██████▋   | 4/6 [00:00<00:00,  6.25it/s]10:13:46 - cmdstanpy - INFO - Chain [1] start processing\n",
      "10:13:46 - cmdstanpy - INFO - Chain [1] done processing\n",
      "10:13:46 - cmdstanpy - INFO - Chain [1] start processing\n",
      "10:13:46 - cmdstanpy - INFO - Chain [1] done processing\n",
      "100%|██████████| 6/6 [00:00<00:00,  8.32it/s]"
     ]
    },
    {
     "name": "stdout",
     "output_type": "stream",
     "text": [
      "\n",
      "\n",
      "MAPE of 5.2% with std of 1.9%.\n",
      "----------\n"
     ]
    },
    {
     "name": "stderr",
     "output_type": "stream",
     "text": [
      "\n"
     ]
    },
    {
     "data": {
      "text/plain": [
       "count    6.000000\n",
       "mean     0.052446\n",
       "min      0.028117\n",
       "25%      0.042747\n",
       "50%      0.052532\n",
       "75%      0.056692\n",
       "max      0.083930\n",
       "std      0.018852\n",
       "Name: mape, dtype: float64"
      ]
     },
     "execution_count": 76,
     "metadata": {},
     "output_type": "execute_result"
    }
   ],
   "source": [
    "#### your solution here \n",
    "model=Prophet(\n",
    "    growth='linear', #no\n",
    "    changepoints=None, #no\n",
    "    n_changepoints=10, #25\n",
    "    changepoint_range=0.8, #no result\n",
    "    changepoint_prior_scale=20, #10 to 30\n",
    "\n",
    "    yearly_seasonality=False,\n",
    "    weekly_seasonality=False,\n",
    "    daily_seasonality=False,\n",
    "    seasonality_mode='multiplicative', #additive\n",
    "    seasonality_prior_scale=25, #no impact\n",
    "\n",
    "    holidays=None, #no because monthly data\n",
    "    holidays_prior_scale=10.0, #no holidays\n",
    "    \n",
    "    mcmc_samples=0, # maximum a posteriori\n",
    "    interval_width=0.8,\n",
    "\n",
    "    uncertainty_samples=1000,\n",
    "    stan_backend=None,\n",
    ").add_seasonality(name=\"yearly\", period=365.25, fourier_order=10, prior_scale=25)\n",
    "\n",
    "model.fit(train_df)\n",
    "df_cv = cross_validation(\n",
    "    model, \n",
    "    initial='1461 days', \n",
    "    period='365 days', \n",
    "    horizon = '365 days'\n",
    ")\n",
    "print(\"\\n\")\n",
    "mape_performance_calc(df_cv)"
   ]
  }
 ],
 "metadata": {
  "kernelspec": {
   "display_name": "ML6",
   "language": "python",
   "name": "python3"
  },
  "language_info": {
   "codemirror_mode": {
    "name": "ipython",
    "version": 3
   },
   "file_extension": ".py",
   "mimetype": "text/x-python",
   "name": "python",
   "nbconvert_exporter": "python",
   "pygments_lexer": "ipython3",
   "version": "3.12.12"
  },
  "toc": {
   "base_numbering": 1,
   "nav_menu": {},
   "number_sections": true,
   "sideBar": true,
   "skip_h1_title": false,
   "title_cell": "Table of Contents",
   "title_sidebar": "Contents",
   "toc_cell": false,
   "toc_position": {},
   "toc_section_display": true,
   "toc_window_display": false
  }
 },
 "nbformat": 4,
 "nbformat_minor": 4
}
